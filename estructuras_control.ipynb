{
 "cells": [
  {
   "cell_type": "markdown",
   "metadata": {
    "slideshow": {
     "slide_type": "slide"
    }
   },
   "source": [
    "# Informática TME \n",
    "\n",
    "## Unidad 3: Estructuras condicionales \n",
    "\n",
    "\n",
    "Clase piloto para el concurso de selección interna. \n",
    "\n",
    "Jueves 16 de abril de 2015\n",
    "\n",
    "Docente candidato: Ing. Martín Gaitán ![](img/fcefyn_unc.png)\n"
   ]
  },
  {
   "cell_type": "markdown",
   "metadata": {
    "slideshow": {
     "slide_type": "slide"
    }
   },
   "source": [
    "# Comencemos! \n",
    "\n",
    "\n",
    "El *\"si\"* condicional del lenguaje común\n",
    "\n",
    "\n",
    "##      *Si se cumple*  `<condición>` *entonces* realizar `<acción/es>`\n",
    "\n",
    "Ejemplo: *Si es mayor de edad, dejalo pasar*\n",
    "\n",
    "    Patovica - Pibe, ¿sos mayor de edad?\n",
    "    Muchacho - Por supuesto señor, tengo 19 años.\n",
    "    Patovica - Muy bien, adelante caballero."
   ]
  },
  {
   "cell_type": "markdown",
   "metadata": {
    "slideshow": {
     "slide_type": "slide"
    }
   },
   "source": [
    "En el idioma inglés «if» significa «si»...\n",
    "\n",
    "##              *if* `<condición>` *then* `<acción>`\n",
    "\n",
    "De paso, consejo del maestro Yoda: **aprendan inglés!**  ![](img/ingles.jpg)"
   ]
  },
  {
   "cell_type": "markdown",
   "metadata": {
    "slideshow": {
     "slide_type": "subslide"
    }
   },
   "source": [
    "### En Python es una *sentencia condicional* es casi igual al inglés\n",
    "\n",
    "```python\n",
    "\n",
    "if <condicion>:\n",
    "    <accion>\n",
    "    ...\n",
    "```    \n",
    "Notar los dos puntos y la sangría: Todo el bloque de codigo que esté sangrado dentro del if se ejecutará si la condición es verdadera\n"
   ]
  },
  {
   "cell_type": "markdown",
   "metadata": {
    "slideshow": {
     "slide_type": "slide"
    }
   },
   "source": [
    "## Pero ¿qué es una `<condicion>` ? \n",
    "\n",
    "- Una \"pregunta lógica\": que se pueda responder con sí (`True`, verdadero) o no (`False`, falso)\n",
    "- Es cualquier expresión *evaluada como booleano*\n"
   ]
  },
  {
   "cell_type": "markdown",
   "metadata": {
    "slideshow": {
     "slide_type": "subslide"
    }
   },
   "source": [
    "Por ejemplo, a través de operadores lógicos\n",
    "\n",
    "* `a == b    # a es igual a b?`\n",
    "* `a != b    # a es distinto a b?`\n",
    "* `a > b     # ...ya se entiende la idea ;-)`\n",
    "* `a < b` \n",
    "* `a >= b`  \n",
    "* `a <= b`  \n",
    "* `a in b    # este nos servirá más adelante`\n",
    "\n",
    "**A practicar!**"
   ]
  },
  {
   "cell_type": "code",
   "execution_count": 1,
   "metadata": {
    "collapsed": false,
    "slideshow": {
     "slide_type": "subslide"
    }
   },
   "outputs": [
    {
     "data": {
      "text/plain": [
       "True"
      ]
     },
     "execution_count": 1,
     "metadata": {},
     "output_type": "execute_result"
    }
   ],
   "source": [
    "2 + 2 == 4 "
   ]
  },
  {
   "cell_type": "code",
   "execution_count": 2,
   "metadata": {
    "collapsed": false,
    "slideshow": {
     "slide_type": "-"
    }
   },
   "outputs": [
    {
     "data": {
      "text/plain": [
       "True"
      ]
     },
     "execution_count": 2,
     "metadata": {},
     "output_type": "execute_result"
    }
   ],
   "source": [
    "from math import pi, e\n",
    "pi > e"
   ]
  },
  {
   "cell_type": "markdown",
   "metadata": {
    "slideshow": {
     "slide_type": "slide"
    }
   },
   "source": [
    "### Un *if* bifurca el flujo de ejecución del programa\n",
    "\n",
    "Sólo si se cumple la condición, se ejecutará una porción del código\n",
    "\n",
    "\n",
    "![](img/ordinograma_si.gif)"
   ]
  },
  {
   "cell_type": "markdown",
   "metadata": {
    "slideshow": {
     "slide_type": "slide"
    }
   },
   "source": [
    "### El ejemplo del patovica "
   ]
  },
  {
   "cell_type": "code",
   "execution_count": 3,
   "metadata": {
    "collapsed": false,
    "slideshow": {
     "slide_type": "-"
    }
   },
   "outputs": [
    {
     "name": "stdout",
     "output_type": "stream",
     "text": [
      "¿Cuántos años tiene? 19\n",
      "- Muy bien, adelante\n"
     ]
    }
   ],
   "source": [
    "años = int(input('¿Cuántos años tiene? '))\n",
    "if años >= 18: \n",
    "    print(\"- Muy bien, adelante\")"
   ]
  },
  {
   "cell_type": "markdown",
   "metadata": {
    "slideshow": {
     "slide_type": "slide"
    }
   },
   "source": [
    "### ¿Qué pasa si la condición no se cumple?\n",
    "\n",
    "Podemos querer ejecutar **otra acción** en caso de la condición no se cumpla. En Python (y en casi todos los lenguajes) eso se hace con la sentencia *`else`*\n",
    "\n",
    "![](img/ordinograma_si_doble.gif)\n",
    "\n",
    "\n",
    "\n"
   ]
  },
  {
   "cell_type": "markdown",
   "metadata": {
    "slideshow": {
     "slide_type": "slide"
    }
   },
   "source": [
    "### *Basado en una historia real*"
   ]
  },
  {
   "cell_type": "code",
   "execution_count": 4,
   "metadata": {
    "collapsed": false,
    "slideshow": {
     "slide_type": "-"
    }
   },
   "outputs": [
    {
     "name": "stdout",
     "output_type": "stream",
     "text": [
      "¿Cuántos años tiene? 17\n",
      "La juguetaría queda en la esquina, pibe\n"
     ]
    }
   ],
   "source": [
    "años = int(input('¿Cuántos años tiene? '))\n",
    "if años >= 18:\n",
    "    print(\"Muy bien, adelante, sirvase su whisky\")\n",
    "else: \n",
    "    print(\"La juguetaría queda en la esquina, pibe\")"
   ]
  },
  {
   "cell_type": "markdown",
   "metadata": {
    "slideshow": {
     "slide_type": "slide"
    }
   },
   "source": [
    "Muchas condiciones pueden asociarse para hacer una más compleja usando los operadores lógicos `and`, `or` y `not`"
   ]
  },
  {
   "cell_type": "code",
   "execution_count": 5,
   "metadata": {
    "collapsed": false,
    "slideshow": {
     "slide_type": "-"
    }
   },
   "outputs": [
    {
     "name": "stdout",
     "output_type": "stream",
     "text": [
      "¿Cuántos años tiene? 16\n",
      "¿tiene bigotes ?si\n",
      "Muy bien, adelante, sírvase una cerveza\n"
     ]
    }
   ],
   "source": [
    "años = int(input('¿Cuántos años tiene? '))\n",
    "tiene_bigotes = input('¿tiene bigotes ?')\n",
    "\n",
    "if años >=18 or (años > 15 and tiene_bigotes == 'si'):\n",
    "    print(\"Muy bien, adelante, sírvase una cerveza\")\n",
    "else: \n",
    "    print(\"La juguetaría queda en la esquina, pibe\")"
   ]
  },
  {
   "cell_type": "markdown",
   "metadata": {
    "slideshow": {
     "slide_type": "slide"
    }
   },
   "source": [
    "## Pongámosnos más serios\n",
    "\n",
    "* Dados los coeficientes $a$, $b$ y $c$, encontrar la/s soluciones de la ecucación de segundo grado\n",
    "\n",
    "$$ax^2+bx+c=0, \\quad \\mbox{para}\\;a\\neq 0  $$\n",
    "\n",
    "Es decir, implementar la famosa fórmula de Bhaskara:\n",
    "\n",
    "$$ x = \\frac{ -b \\pm \\sqrt{b^2-4ac}}{2a} $$\n",
    "\n",
    "(el desarrollo de la deducción está [en Wikipedia](http://es.wikipedia.org/wiki/Deducci%C3%B3n_de_la_f%C3%B3rmula_de_Bhaskara))\n",
    "\n"
   ]
  },
  {
   "cell_type": "markdown",
   "metadata": {
    "slideshow": {
     "slide_type": "subslide"
    }
   },
   "source": [
    "![](img/math.jpg)"
   ]
  },
  {
   "cell_type": "code",
   "execution_count": 6,
   "metadata": {
    "collapsed": false,
    "slideshow": {
     "slide_type": "slide"
    }
   },
   "outputs": [
    {
     "name": "stdout",
     "output_type": "stream",
     "text": [
      "ingrese a: 2\n",
      "ingrese b: 1\n",
      "ingrese c: -4\n",
      "Soluciones x1=1.1861406616345072 y x2=-1.6861406616345072 \n"
     ]
    }
   ],
   "source": [
    "from math import sqrt  # funcion raiz cuadrada\n",
    "\n",
    "a = float(input('ingrese a: '))\n",
    "b = float(input('ingrese b: '))\n",
    "c = float(input('ingrese c: '))\n",
    "\n",
    "if a != 0:\n",
    "    discriminante = b**2 - 4*a*c    \n",
    "    x1 = (-b + sqrt(discriminante)) / (2 * a)\n",
    "    x2 = (-b - sqrt(discriminante)) / (2 * a)\n",
    "    print ('Soluciones x1={} y x2={} '.format(x1, x2)) \n",
    "else:\n",
    "    print('El coeficiente a no puede ser 0!')"
   ]
  },
  {
   "cell_type": "markdown",
   "metadata": {
    "slideshow": {
     "slide_type": "-"
    }
   },
   "source": [
    "¿Qué pasa si $b^2 < 4ac$ ? "
   ]
  },
  {
   "cell_type": "markdown",
   "metadata": {
    "slideshow": {
     "slide_type": "subslide"
    }
   },
   "source": [
    "Podemos poner una *sentencia condicional anidada*: ¡un if adentro de otro!"
   ]
  },
  {
   "cell_type": "code",
   "execution_count": 7,
   "metadata": {
    "collapsed": false,
    "slideshow": {
     "slide_type": "-"
    }
   },
   "outputs": [
    {
     "name": "stdout",
     "output_type": "stream",
     "text": [
      "ingrese a: 0\n",
      "ingrese b: 1\n",
      "ingrese c: 2\n",
      "El coeficiente a no puede ser 0!\n"
     ]
    }
   ],
   "source": [
    "a = float(input('ingrese a: '))\n",
    "b = float(input('ingrese b: '))\n",
    "c = float(input('ingrese c: '))\n",
    "\n",
    "if a != 0:\n",
    "    discriminante = b**2 - 4*a*c    \n",
    "    if discriminante < 0:                   # para evitar la raiz negativa\n",
    "        print('No hay solución en el plano real')\n",
    "    else:\n",
    "        x1 = (-b + sqrt(discriminante)) / (2 * a)\n",
    "        x2 = (-b - sqrt(discriminante)) / (2 * a)\n",
    "        print ('Soluciones x1={} y x2={} '.format(x1, x2))\n",
    "else:\n",
    "    print('El coeficiente \"a\" no puede ser 0!')"
   ]
  },
  {
   "cell_type": "markdown",
   "metadata": {
    "slideshow": {
     "slide_type": "slide"
    }
   },
   "source": [
    "### Ejercicios:\n",
    "\n",
    "- investigue el comportamiento de la función `sqrt` del paquete `cmath` (`from cmath import sqrt`)\n",
    "- reimplemente la fórmula de bhaskara que soporte raíces en el plano complejo\n"
   ]
  },
  {
   "cell_type": "markdown",
   "metadata": {
    "slideshow": {
     "slide_type": "subslide"
    }
   },
   "source": [
    "- Dado  numero complejo, se puede consultar la parte real e imaginaria del siguiente modo:\n",
    "\n",
    "```python\n",
    "        a = 1 + 4j\n",
    "        print(a.real, a.imag)\n",
    "```\n",
    "   \n",
    "- En su anterior programa, si las partes imaginarias, de las soluciones son 0, imprimir sólo la parte real del resultado\n",
    "  \n",
    "- Completar el programa para dar la solución de la ecuación lineal resultante cuando $a = 0$ \n",
    "- ¿Qué pasa si tanto $a$ como $b$ son 0?"
   ]
  },
  {
   "cell_type": "markdown",
   "metadata": {
    "slideshow": {
     "slide_type": "slide"
    }
   },
   "source": [
    "## Estructura de selección\n",
    "\n",
    "¿Cómo implementamos muchos flujos posibles en nuestro programa? \n",
    "\n",
    "\n",
    "![](img/ordinograma_si_multiple.gif)"
   ]
  },
  {
   "cell_type": "code",
   "execution_count": 8,
   "metadata": {
    "collapsed": false,
    "slideshow": {
     "slide_type": "subslide"
    }
   },
   "outputs": [
    {
     "name": "stdout",
     "output_type": "stream",
     "text": [
      "Indique el radio del círculo2.3\n",
      "a) calcular diámetro\n",
      "b) calcular perímetro\n",
      "c) calcular superficie\n",
      "\n",
      "Indique su opciona\n",
      "El diametro es 4.6\n"
     ]
    }
   ],
   "source": [
    "from math import pi\n",
    "\n",
    "menu = \"\"\"a) calcular diámetro\n",
    "b) calcular perímetro\n",
    "c) calcular superficie\n",
    "\"\"\"\n",
    "\n",
    "radio = float(input('Indique el radio del círculo'))\n",
    "print(menu)\n",
    "opcion = input('Indique su opcion')\n",
    "    \n",
    "if opcion == 'a':\n",
    "    diametro = radio * 2\n",
    "    print('El diametro es {}'.format(diametro))\n",
    "else:\n",
    "    if opcion == 'b':\n",
    "        perímetro = 2 * radio * pi\n",
    "        print('El perímetro es {}'.format(perímetro))\n",
    "    else:\n",
    "        if opcion == 'c':\n",
    "            superficie = radio**2 * pi\n",
    "            print('La superficie es {}'.format(superficie))\n",
    "        else:\n",
    "            print('No conozco esa opcion')\n"
   ]
  },
  {
   "cell_type": "markdown",
   "metadata": {
    "slideshow": {
     "slide_type": "slide"
    }
   },
   "source": [
    "### Pero ¿No es un poco complicado?  \n",
    "\n",
    "**Simplifiquemos**: Cuando hay un `if` que sigue directamente a otro `if` o un `else`, es más prolijo *aplanar* la estructura\n",
    "\n"
   ]
  },
  {
   "cell_type": "code",
   "execution_count": 9,
   "metadata": {
    "collapsed": false,
    "slideshow": {
     "slide_type": "-"
    }
   },
   "outputs": [
    {
     "name": "stdout",
     "output_type": "stream",
     "text": [
      "Indique el radio del círculo: 4.5\n",
      "a) calcular diámetro\n",
      "b) calcular perímetro\n",
      "c) calcular superficie\n",
      "\n",
      "Indique su opcion: c\n",
      "La superficie es 63.61725123519331\n"
     ]
    }
   ],
   "source": [
    "radio = float(input('Indique el radio del círculo: '))\n",
    "print(menu) \n",
    "opcion = input('Indique su opcion: ')\n",
    "    \n",
    "if opcion == 'a':\n",
    "    diametro = radio * 2\n",
    "    print('El diámetro es {}'.format(diametro))\n",
    "elif opcion == 'b':\n",
    "    perímetro = 2 * radio * pi\n",
    "    print('El perímetro es {}'.format(perímetro))\n",
    "elif opcion == 'c':\n",
    "    superficie = radio**2 * pi\n",
    "    print('La superficie es {}'.format(superficie))\n",
    "else:\n",
    "    print('No conozco esa opcion')"
   ]
  },
  {
   "cell_type": "markdown",
   "metadata": {
    "slideshow": {
     "slide_type": "subslide"
    }
   },
   "source": [
    "![](img/hal_abelson.jpg)\n",
    "\n",
    "[Harold Abelson](http://es.wikipedia.org/wiki/Hal_Abelson) es profesor de Ingeniería Eléctrica y Ciencias de la Computación del MIT, miembro de la IEEE, cofundador junto a Lawrence Lessig de Creative Commons. Ha sido premiado por sus contribuciones a la enseñanza de la computación. "
   ]
  },
  {
   "cell_type": "markdown",
   "metadata": {
    "slideshow": {
     "slide_type": "slide"
    }
   },
   "source": [
    "## Algunos \"truquitos\" del lenguaje Python\n",
    "\n",
    "Cuando queremos hacer una asignación dependiendo de una condición\n",
    "\n",
    "\n",
    "```python\n",
    "if condicion:\n",
    "    x = valor_si_true\n",
    "else:\n",
    "    x = valor_si_false\n",
    "```         \n",
    "         \n",
    "Podemos hacerlo directamente en la misma línea: \n",
    "\n",
    "```python\n",
    "x = valor_si_true if condicion else valor_si_false\n",
    "```"
   ]
  },
  {
   "cell_type": "code",
   "execution_count": 10,
   "metadata": {
    "collapsed": false,
    "slideshow": {
     "slide_type": "subslide"
    }
   },
   "outputs": [
    {
     "data": {
      "text/plain": [
       "'Usted es menor de edad'"
      ]
     },
     "execution_count": 10,
     "metadata": {},
     "output_type": "execute_result"
    }
   ],
   "source": [
    "edad = 13  # probar con distintos valores!\n",
    "resultado = 'Usted es mayor de edad' if edad >= 18 else \"Usted es menor de edad\"\n",
    "resultado"
   ]
  },
  {
   "cell_type": "markdown",
   "metadata": {
    "slideshow": {
     "slide_type": "slide"
    }
   },
   "source": [
    "\n",
    "Python permite evaluar expresiones lógicas de más de dos miembros, por ejemplo `a < b < c` . Esto sirve para escribir menos código y leerlo más fácil!\n",
    "\n",
    "### ejemplo"
   ]
  },
  {
   "cell_type": "code",
   "execution_count": 11,
   "metadata": {
    "collapsed": false,
    "scrolled": true,
    "slideshow": {
     "slide_type": "-"
    }
   },
   "outputs": [
    {
     "name": "stdout",
     "output_type": "stream",
     "text": [
      "ingrese X: 3\n",
      "x es un numero positivo de un dígito.\n"
     ]
    }
   ],
   "source": [
    "x = int(input('ingrese X: '))\n",
    "\n",
    "if 0 < x:\n",
    "    if x < 10:\n",
    "        print(\"x es un número positivo de un dígito.\")"
   ]
  },
  {
   "cell_type": "code",
   "execution_count": 12,
   "metadata": {
    "collapsed": false,
    "slideshow": {
     "slide_type": "subslide"
    }
   },
   "outputs": [
    {
     "name": "stdout",
     "output_type": "stream",
     "text": [
      "x es un numero positivo de un dígito.\n"
     ]
    }
   ],
   "source": [
    "# podriamos escribirlo así: \n",
    "if 0 < x and x < 10:\n",
    "    print(\"x es un número positivo de un dígito.\")"
   ]
  },
  {
   "cell_type": "code",
   "execution_count": 13,
   "metadata": {
    "collapsed": false,
    "slideshow": {
     "slide_type": "subslide"
    }
   },
   "outputs": [
    {
     "name": "stdout",
     "output_type": "stream",
     "text": [
      "x es un numero positivo de un dígito.\n"
     ]
    }
   ],
   "source": [
    "# pero es más compacto y facil de leer así\n",
    "if 0 < x < 10:\n",
    "    print(\"x es un número positivo de un dígito.\")"
   ]
  },
  {
   "cell_type": "markdown",
   "metadata": {
    "slideshow": {
     "slide_type": "slide"
    }
   },
   "source": [
    "## Otro problema\n",
    "\n",
    "- Escribamos un programa que evalue la función definida por partes en un valor  $x \\in  \\mathbb{R}$ ingresado por teclado\n",
    "\n",
    "![](img/partes_.png)\n",
    "\n",
    "Es decir:\n",
    "\n",
    "$$\n",
    "  y = f(x) =\n",
    "   \\left \\{\n",
    "   \\begin{array}{rcl}\n",
    "      x + 3, & \\mbox{si } & x < -1 \\\\\n",
    "      x^2, & \\mbox{si } & -1 \\le x \\le 2 \\\\\n",
    "      3, & \\mbox{si } &  x > 2 \n",
    "   \\end{array}\n",
    "   \\right .\n",
    "$$"
   ]
  },
  {
   "cell_type": "code",
   "execution_count": 14,
   "metadata": {
    "collapsed": false,
    "slideshow": {
     "slide_type": "subslide"
    }
   },
   "outputs": [
    {
     "name": "stdout",
     "output_type": "stream",
     "text": [
      "ingrese X: -3\n",
      "f(-3.0) = 0.0\n"
     ]
    }
   ],
   "source": [
    "x = float(input('ingrese X: '))\n",
    "\n",
    "if x < -1:\n",
    "    y = x + 3\n",
    "elif -1 <= x <= 2:\n",
    "    y = x**2\n",
    "else:\n",
    "    y = 3\n",
    "print(\"f({}) = {}\".format(x, y))\n"
   ]
  },
  {
   "cell_type": "markdown",
   "metadata": {
    "slideshow": {
     "slide_type": "slide"
    }
   },
   "source": [
    "\n",
    "# Terminamos por hoy\n",
    "\n",
    "![](img/dance.gif)\n",
    "\n",
    "\n",
    "PD: ¡cuidado con los patovicas!"
   ]
  }
 ],
 "metadata": {
  "celltoolbar": "Slideshow",
  "kernelspec": {
   "display_name": "Python 3",
   "language": "python",
   "name": "python3"
  },
  "language_info": {
   "codemirror_mode": {
    "name": "ipython",
    "version": 3
   },
   "file_extension": ".py",
   "mimetype": "text/x-python",
   "name": "python",
   "nbconvert_exporter": "python",
   "pygments_lexer": "ipython3",
   "version": "3.4.2"
  }
 },
 "nbformat": 4,
 "nbformat_minor": 0
}
